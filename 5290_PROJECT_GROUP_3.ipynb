{
  "cells": [
    {
      "cell_type": "code",
      "execution_count": 1,
      "metadata": {
        "colab": {
          "base_uri": "https://localhost:8080/"
        },
        "id": "7xEi-NzAOckm",
        "outputId": "8b1b7e6c-dd51-470b-f18e-defa9e3bdfe0"
      },
      "outputs": [
        {
          "output_type": "stream",
          "name": "stdout",
          "text": [
            "Collecting googletrans==4.0.0-rc1\n",
            "  Downloading googletrans-4.0.0rc1.tar.gz (20 kB)\n",
            "  Preparing metadata (setup.py) ... \u001b[?25l\u001b[?25hdone\n",
            "Collecting httpx==0.13.3 (from googletrans==4.0.0-rc1)\n",
            "  Downloading httpx-0.13.3-py3-none-any.whl (55 kB)\n",
            "\u001b[2K     \u001b[90m━━━━━━━━━━━━━━━━━━━━━━━━━━━━━━━━━━━━━━━━\u001b[0m \u001b[32m55.1/55.1 kB\u001b[0m \u001b[31m2.0 MB/s\u001b[0m eta \u001b[36m0:00:00\u001b[0m\n",
            "\u001b[?25hRequirement already satisfied: certifi in /usr/local/lib/python3.10/dist-packages (from httpx==0.13.3->googletrans==4.0.0-rc1) (2024.2.2)\n",
            "Collecting hstspreload (from httpx==0.13.3->googletrans==4.0.0-rc1)\n",
            "  Downloading hstspreload-2024.4.1-py3-none-any.whl (1.1 MB)\n",
            "\u001b[2K     \u001b[90m━━━━━━━━━━━━━━━━━━━━━━━━━━━━━━━━━━━━━━━━\u001b[0m \u001b[32m1.1/1.1 MB\u001b[0m \u001b[31m20.1 MB/s\u001b[0m eta \u001b[36m0:00:00\u001b[0m\n",
            "\u001b[?25hRequirement already satisfied: sniffio in /usr/local/lib/python3.10/dist-packages (from httpx==0.13.3->googletrans==4.0.0-rc1) (1.3.1)\n",
            "Collecting chardet==3.* (from httpx==0.13.3->googletrans==4.0.0-rc1)\n",
            "  Downloading chardet-3.0.4-py2.py3-none-any.whl (133 kB)\n",
            "\u001b[2K     \u001b[90m━━━━━━━━━━━━━━━━━━━━━━━━━━━━━━━━━━━━━━━━\u001b[0m \u001b[32m133.4/133.4 kB\u001b[0m \u001b[31m12.1 MB/s\u001b[0m eta \u001b[36m0:00:00\u001b[0m\n",
            "\u001b[?25hCollecting idna==2.* (from httpx==0.13.3->googletrans==4.0.0-rc1)\n",
            "  Downloading idna-2.10-py2.py3-none-any.whl (58 kB)\n",
            "\u001b[2K     \u001b[90m━━━━━━━━━━━━━━━━━━━━━━━━━━━━━━━━━━━━━━━━\u001b[0m \u001b[32m58.8/58.8 kB\u001b[0m \u001b[31m6.2 MB/s\u001b[0m eta \u001b[36m0:00:00\u001b[0m\n",
            "\u001b[?25hCollecting rfc3986<2,>=1.3 (from httpx==0.13.3->googletrans==4.0.0-rc1)\n",
            "  Downloading rfc3986-1.5.0-py2.py3-none-any.whl (31 kB)\n",
            "Collecting httpcore==0.9.* (from httpx==0.13.3->googletrans==4.0.0-rc1)\n",
            "  Downloading httpcore-0.9.1-py3-none-any.whl (42 kB)\n",
            "\u001b[2K     \u001b[90m━━━━━━━━━━━━━━━━━━━━━━━━━━━━━━━━━━━━━━━━\u001b[0m \u001b[32m42.6/42.6 kB\u001b[0m \u001b[31m4.2 MB/s\u001b[0m eta \u001b[36m0:00:00\u001b[0m\n",
            "\u001b[?25hCollecting h11<0.10,>=0.8 (from httpcore==0.9.*->httpx==0.13.3->googletrans==4.0.0-rc1)\n",
            "  Downloading h11-0.9.0-py2.py3-none-any.whl (53 kB)\n",
            "\u001b[2K     \u001b[90m━━━━━━━━━━━━━━━━━━━━━━━━━━━━━━━━━━━━━━━━\u001b[0m \u001b[32m53.6/53.6 kB\u001b[0m \u001b[31m4.0 MB/s\u001b[0m eta \u001b[36m0:00:00\u001b[0m\n",
            "\u001b[?25hCollecting h2==3.* (from httpcore==0.9.*->httpx==0.13.3->googletrans==4.0.0-rc1)\n",
            "  Downloading h2-3.2.0-py2.py3-none-any.whl (65 kB)\n",
            "\u001b[2K     \u001b[90m━━━━━━━━━━━━━━━━━━━━━━━━━━━━━━━━━━━━━━━━\u001b[0m \u001b[32m65.0/65.0 kB\u001b[0m \u001b[31m3.4 MB/s\u001b[0m eta \u001b[36m0:00:00\u001b[0m\n",
            "\u001b[?25hCollecting hyperframe<6,>=5.2.0 (from h2==3.*->httpcore==0.9.*->httpx==0.13.3->googletrans==4.0.0-rc1)\n",
            "  Downloading hyperframe-5.2.0-py2.py3-none-any.whl (12 kB)\n",
            "Collecting hpack<4,>=3.0 (from h2==3.*->httpcore==0.9.*->httpx==0.13.3->googletrans==4.0.0-rc1)\n",
            "  Downloading hpack-3.0.0-py2.py3-none-any.whl (38 kB)\n",
            "Building wheels for collected packages: googletrans\n",
            "  Building wheel for googletrans (setup.py) ... \u001b[?25l\u001b[?25hdone\n",
            "  Created wheel for googletrans: filename=googletrans-4.0.0rc1-py3-none-any.whl size=17395 sha256=54a1ba3a5f75f85839730aa30abc5d972378c08c675ef48755526aa72f89b7bf\n",
            "  Stored in directory: /root/.cache/pip/wheels/c0/59/9f/7372f0cf70160fe61b528532e1a7c8498c4becd6bcffb022de\n",
            "Successfully built googletrans\n",
            "Installing collected packages: rfc3986, hyperframe, hpack, h11, chardet, idna, hstspreload, h2, httpcore, httpx, googletrans\n",
            "  Attempting uninstall: chardet\n",
            "    Found existing installation: chardet 5.2.0\n",
            "    Uninstalling chardet-5.2.0:\n",
            "      Successfully uninstalled chardet-5.2.0\n",
            "  Attempting uninstall: idna\n",
            "    Found existing installation: idna 3.7\n",
            "    Uninstalling idna-3.7:\n",
            "      Successfully uninstalled idna-3.7\n",
            "Successfully installed chardet-3.0.4 googletrans-4.0.0rc1 h11-0.9.0 h2-3.2.0 hpack-3.0.0 hstspreload-2024.4.1 httpcore-0.9.1 httpx-0.13.3 hyperframe-5.2.0 idna-2.10 rfc3986-1.5.0\n"
          ]
        }
      ],
      "source": [
        "pip install googletrans==4.0.0-rc1"
      ]
    },
    {
      "cell_type": "code",
      "execution_count": 2,
      "metadata": {
        "colab": {
          "base_uri": "https://localhost:8080/"
        },
        "id": "650lj11IndAT",
        "outputId": "c134e873-5ddd-4fa0-ce35-c50c1eb6535e"
      },
      "outputs": [
        {
          "output_type": "stream",
          "name": "stdout",
          "text": [
            "Collecting wikipedia-api\n",
            "  Downloading Wikipedia_API-0.6.0-py3-none-any.whl (14 kB)\n",
            "Requirement already satisfied: requests in /usr/local/lib/python3.10/dist-packages (from wikipedia-api) (2.31.0)\n",
            "Requirement already satisfied: charset-normalizer<4,>=2 in /usr/local/lib/python3.10/dist-packages (from requests->wikipedia-api) (3.3.2)\n",
            "Requirement already satisfied: idna<4,>=2.5 in /usr/local/lib/python3.10/dist-packages (from requests->wikipedia-api) (2.10)\n",
            "Requirement already satisfied: urllib3<3,>=1.21.1 in /usr/local/lib/python3.10/dist-packages (from requests->wikipedia-api) (2.0.7)\n",
            "Requirement already satisfied: certifi>=2017.4.17 in /usr/local/lib/python3.10/dist-packages (from requests->wikipedia-api) (2024.2.2)\n",
            "Installing collected packages: wikipedia-api\n",
            "Successfully installed wikipedia-api-0.6.0\n",
            "Collecting wikipedia\n",
            "  Downloading wikipedia-1.4.0.tar.gz (27 kB)\n",
            "  Preparing metadata (setup.py) ... \u001b[?25l\u001b[?25hdone\n",
            "Requirement already satisfied: beautifulsoup4 in /usr/local/lib/python3.10/dist-packages (from wikipedia) (4.12.3)\n",
            "Requirement already satisfied: requests<3.0.0,>=2.0.0 in /usr/local/lib/python3.10/dist-packages (from wikipedia) (2.31.0)\n",
            "Requirement already satisfied: charset-normalizer<4,>=2 in /usr/local/lib/python3.10/dist-packages (from requests<3.0.0,>=2.0.0->wikipedia) (3.3.2)\n",
            "Requirement already satisfied: idna<4,>=2.5 in /usr/local/lib/python3.10/dist-packages (from requests<3.0.0,>=2.0.0->wikipedia) (2.10)\n",
            "Requirement already satisfied: urllib3<3,>=1.21.1 in /usr/local/lib/python3.10/dist-packages (from requests<3.0.0,>=2.0.0->wikipedia) (2.0.7)\n",
            "Requirement already satisfied: certifi>=2017.4.17 in /usr/local/lib/python3.10/dist-packages (from requests<3.0.0,>=2.0.0->wikipedia) (2024.2.2)\n",
            "Requirement already satisfied: soupsieve>1.2 in /usr/local/lib/python3.10/dist-packages (from beautifulsoup4->wikipedia) (2.5)\n",
            "Building wheels for collected packages: wikipedia\n",
            "  Building wheel for wikipedia (setup.py) ... \u001b[?25l\u001b[?25hdone\n",
            "  Created wheel for wikipedia: filename=wikipedia-1.4.0-py3-none-any.whl size=11680 sha256=8dcdaa9c7459346f67c26c4d101c453e9e11e4ab2c94ebd941a661afb4012a69\n",
            "  Stored in directory: /root/.cache/pip/wheels/5e/b6/c5/93f3dec388ae76edc830cb42901bb0232504dfc0df02fc50de\n",
            "Successfully built wikipedia\n",
            "Installing collected packages: wikipedia\n",
            "Successfully installed wikipedia-1.4.0\n",
            "Collecting langdetect\n",
            "  Downloading langdetect-1.0.9.tar.gz (981 kB)\n",
            "\u001b[2K     \u001b[90m━━━━━━━━━━━━━━━━━━━━━━━━━━━━━━━━━━━━━━━━\u001b[0m \u001b[32m981.5/981.5 kB\u001b[0m \u001b[31m14.6 MB/s\u001b[0m eta \u001b[36m0:00:00\u001b[0m\n",
            "\u001b[?25h  Preparing metadata (setup.py) ... \u001b[?25l\u001b[?25hdone\n",
            "Requirement already satisfied: six in /usr/local/lib/python3.10/dist-packages (from langdetect) (1.16.0)\n",
            "Building wheels for collected packages: langdetect\n",
            "  Building wheel for langdetect (setup.py) ... \u001b[?25l\u001b[?25hdone\n",
            "  Created wheel for langdetect: filename=langdetect-1.0.9-py3-none-any.whl size=993227 sha256=f53891287de729c169d8386814ad35098bcb62161eee32fa0aa911408f692f4d\n",
            "  Stored in directory: /root/.cache/pip/wheels/95/03/7d/59ea870c70ce4e5a370638b5462a7711ab78fba2f655d05106\n",
            "Successfully built langdetect\n",
            "Installing collected packages: langdetect\n",
            "Successfully installed langdetect-1.0.9\n"
          ]
        }
      ],
      "source": [
        "!pip install wikipedia-api\n",
        "!pip install wikipedia\n",
        "!pip install langdetect"
      ]
    },
    {
      "cell_type": "markdown",
      "metadata": {
        "id": "b6ro3GJZHPNc"
      },
      "source": [
        "**Data loading and Preprocessing**\n",
        "\n",
        "\n",
        "*   We will load all the files directly from the Google drive. So first we have to mount the drive into collab notebook.\n",
        "\n",
        "*   For preprocessing we will only use csv module of python.\n"
      ]
    },
    {
      "cell_type": "code",
      "execution_count": 3,
      "metadata": {
        "colab": {
          "base_uri": "https://localhost:8080/"
        },
        "id": "91gV0HOvHlk_",
        "outputId": "ffd9f985-ce7f-43f9-c8c1-99ef4917b5fa"
      },
      "outputs": [
        {
          "output_type": "stream",
          "name": "stderr",
          "text": [
            "[nltk_data] Downloading package punkt to /root/nltk_data...\n",
            "[nltk_data]   Unzipping tokenizers/punkt.zip.\n",
            "[nltk_data] Downloading package stopwords to /root/nltk_data...\n",
            "[nltk_data]   Unzipping corpora/stopwords.zip.\n"
          ]
        }
      ],
      "source": [
        "import csv\n",
        "import string\n",
        "import random\n",
        "import torch\n",
        "import torch.nn as nn\n",
        "import torch.optim as optim\n",
        "import torch.nn.functional as F\n",
        "import ipywidgets as widgets\n",
        "from IPython.display import display\n",
        "import wikipedia\n",
        "from langdetect import detect as detect_language\n",
        "from googletrans import Translator\n",
        "import nltk\n",
        "from nltk.tokenize import word_tokenize\n",
        "from nltk.corpus import stopwords\n",
        "from collections import Counter\n",
        "\n",
        "# Download NLTK resources\n",
        "nltk.download('punkt')\n",
        "nltk.download('stopwords')\n",
        "\n",
        "# Initialize Translator object\n",
        "translator = Translator()\n",
        "#setting the device to \"cuda\" if available\n",
        "device = torch.device(\"cuda\" if torch.cuda.is_available() else \"cpu\")"
      ]
    },
    {
      "cell_type": "markdown",
      "metadata": {
        "id": "QEnd71w8IW_5"
      },
      "source": [
        "Mounting the google drive\n",
        "\n",
        "- Upload \"train.csv\" and \"testhindistatements.csv\" inside the collab folder in google drive"
      ]
    },
    {
      "cell_type": "code",
      "execution_count": 4,
      "metadata": {
        "colab": {
          "base_uri": "https://localhost:8080/"
        },
        "id": "O7IU6U6zINgE",
        "outputId": "f47a2c4f-dbb3-43f6-87f0-0ad736c598ff"
      },
      "outputs": [
        {
          "output_type": "stream",
          "name": "stdout",
          "text": [
            "Mounted at /content/drive\n"
          ]
        }
      ],
      "source": [
        "from google.colab import drive\n",
        "drive.mount('/content/drive')"
      ]
    },
    {
      "cell_type": "code",
      "execution_count": 5,
      "metadata": {
        "id": "yP08NGsyJq41"
      },
      "outputs": [],
      "source": [
        "\n",
        "MAX_LENGTH=10\n",
        "\n",
        "class Vocab_builder:\n",
        "    def __init__(self):\n",
        "        self.word_2_index={\"<SOS>\":0,\"<EOS>\":1,\"<PAD>\":2,\"<UKN>\":3}\n",
        "        self.index_2_word={0:\"<SOS>\", 1:\"<EOS>\", 2:\"<PAD>\", 3:\"<UKN>\"}\n",
        "        self.freq={}\n",
        "        self.size=4\n",
        "\n",
        "    def add_this_sentence(self,sentence):\n",
        "        words=sentence.split(\" \")\n",
        "        for word in words:\n",
        "            if word not in self.word_2_index:\n",
        "                #If the word is not there, add it to a new index and store the indexes\n",
        "                #Initialize the frequency of the word to 1 and increase the size of the vocabulary\n",
        "                self.word_2_index[word]=self.size\n",
        "                self.freq[word]=1\n",
        "                self.index_2_word[self.size]=word\n",
        "                self.size+=1\n",
        "            else:\n",
        "                # If the word is already present then just increase the frequency\n",
        "                self.freq[word]+=1"
      ]
    },
    {
      "cell_type": "code",
      "execution_count": 6,
      "metadata": {
        "id": "pu1W9XJWMCzv"
      },
      "outputs": [],
      "source": [
        "#Initilizing the objects of hindi and english vocabularies:\n",
        "hindi_vocab=Vocab_builder()\n",
        "eng_vocab=Vocab_builder()"
      ]
    },
    {
      "cell_type": "code",
      "execution_count": 7,
      "metadata": {
        "id": "0KfIQgM8MRGK"
      },
      "outputs": [],
      "source": [
        "def length(sentence):\n",
        "    '''\n",
        "        Function to tell the length of a sentence.\n",
        "    '''\n",
        "    return len(sentence.split(\" \"))\n",
        "\n",
        "def is_mixed(sentence):\n",
        "    '''\n",
        "        This function will return True if a hindi sentence is containing some english character.\n",
        "    '''\n",
        "    letters=\"abcdefghijklmnopqrstuvwxyz\"\n",
        "    for ch in letters:\n",
        "        if ch in sentence:\n",
        "            return True\n",
        "    return False\n",
        "\n",
        "def preprocess(sentence):\n",
        "    '''\n",
        "        This function will apply the neccesary preprocessing to a sentence\n",
        "    '''\n",
        "    #First we will remove all punctuations from the sentence\n",
        "    punctuations=list(string.punctuation)\n",
        "    cleaned=\"\"\n",
        "    for letter in sentence:\n",
        "        if letter not in punctuations:\n",
        "            cleaned+=letter\n",
        "    cleaned=cleaned.lower() ## Converting into lowercase\n",
        "    return cleaned"
      ]
    },
    {
      "cell_type": "code",
      "execution_count": 8,
      "metadata": {
        "id": "TtBpfbg8IbkE"
      },
      "outputs": [],
      "source": [
        "def clean_the_data(path):\n",
        "    '''\n",
        "      This function will load the data and process it line by line.\n",
        "      It will apply all the preprocessing and make the data ready for further processing.\n",
        "    '''\n",
        "    pairs=[]\n",
        "    with open(path,'rt') as f:\n",
        "        data=csv.reader(f, delimiter=',')\n",
        "        row_num=0\n",
        "        for row in data:\n",
        "            if row_num!=0:  #We will not process first row as it will contain header\n",
        "                hindi=row[1]\n",
        "                eng=row[2]\n",
        "\n",
        "                if length(hindi)>=MAX_LENGTH or length(eng)>=MAX_LENGTH:  #skipping if length is more than MAX_LENGTH\n",
        "                    continue\n",
        "                if not hindi or not eng:  #skipping pair having any NULL value\n",
        "                    continue\n",
        "                if is_mixed(hindi):   #skipping sentence if it contains some english word\n",
        "                    continue\n",
        "                hindi=hindi.encode('utf-8',errors='ignore').decode('utf-8')\n",
        "                eng=eng.encode('ascii',errors='ignore').decode('utf-8')\n",
        "                hindi=preprocess(hindi)\n",
        "                eng=preprocess(eng)\n",
        "                #Adding <SOS>, <EOS> and padding tokens\n",
        "                pair=[hindi.strip(), eng.strip()]\n",
        "\n",
        "                hin_extra=MAX_LENGTH-len(hindi.strip().split(\" \"))\n",
        "                eng_extra=MAX_LENGTH-len(eng.strip().split(\" \"))\n",
        "\n",
        "                hindi_vocab.add_this_sentence(pair[0])\n",
        "                eng_vocab.add_this_sentence(pair[1])\n",
        "                pair[0]=pair[0].split(\" \")\n",
        "                pair[0].insert(0,\"<SOS>\")\n",
        "                pair[0].append(\"<EOS>\")\n",
        "                pair[0]=pair[0]+[\"<PAD>\"]*(hin_extra)\n",
        "\n",
        "                pair[1]=pair[1].split(\" \")\n",
        "                pair[1].insert(0,\"<SOS>\")\n",
        "                pair[1].append(\"<EOS>\")\n",
        "                pair[1]=pair[1]+[\"<PAD>\"]*(eng_extra)\n",
        "\n",
        "                pair[0]=\" \".join(pair[0])\n",
        "                pair[1]=\" \".join(pair[1])\n",
        "                pairs.append(pair)\n",
        "            row_num+=1\n",
        "    return pairs"
      ]
    },
    {
      "cell_type": "code",
      "execution_count": 9,
      "metadata": {
        "id": "If_qHw3iI0Zj"
      },
      "outputs": [],
      "source": [
        "file_path=\"/content/drive/MyDrive/train-set.csv\"       # path of train dataset in the drive\n"
      ]
    },
    {
      "cell_type": "code",
      "execution_count": 10,
      "metadata": {
        "id": "kQD3qXWeYF93"
      },
      "outputs": [],
      "source": [
        "pairs=clean_the_data(file_path)"
      ]
    },
    {
      "cell_type": "code",
      "execution_count": 11,
      "metadata": {
        "colab": {
          "base_uri": "https://localhost:8080/"
        },
        "id": "VfjYSISX7LPD",
        "outputId": "b6f5175f-49b0-43a1-d2ca-873bc42b5851"
      },
      "outputs": [
        {
          "output_type": "execute_result",
          "data": {
            "text/plain": [
              "['<SOS> लानत है तुम पर <EOS> <PAD> <PAD> <PAD> <PAD> <PAD> <PAD>',\n",
              " '<SOS> damn you <EOS> <PAD> <PAD> <PAD> <PAD> <PAD> <PAD> <PAD> <PAD>']"
            ]
          },
          "metadata": {},
          "execution_count": 11
        }
      ],
      "source": [
        "pairs[10]"
      ]
    },
    {
      "cell_type": "code",
      "execution_count": 12,
      "metadata": {
        "id": "Gxzf6b1uYRLH"
      },
      "outputs": [],
      "source": [
        "#Now we need to convert each of this pair into corresponding tensors\n",
        "def pair_to_tensor(pair):\n",
        "    '''\n",
        "    A function to convert a given pair to tensors corresponding to index in vocabulary\n",
        "    '''\n",
        "    hindi_sentence=pair[0]\n",
        "    eng_sentence=pair[1]\n",
        "    indexes_hindi=[hindi_vocab.word_2_index[word] for word in hindi_sentence.split(' ')]\n",
        "    indexes_eng=[eng_vocab.word_2_index[word] for word in eng_sentence.split(' ')]\n",
        "    hindi_tensor=torch.tensor(indexes_hindi, dtype=torch.long, device=device).view(-1,1)\n",
        "    eng_tensor=torch.tensor(indexes_eng, dtype=torch.long, device=device).view(-1,1)\n",
        "    return (hindi_tensor, eng_tensor)"
      ]
    },
    {
      "cell_type": "code",
      "execution_count": 13,
      "metadata": {
        "id": "E6erfJEZYVFv"
      },
      "outputs": [],
      "source": [
        "hin_tensors=[]\n",
        "eng_tensors=[]\n",
        "for pair in pairs:      # we will convert each pair into tensor to process it\n",
        "    hin,eng=pair_to_tensor(pair)\n",
        "    hin_tensors.append(hin)\n",
        "    eng_tensors.append(eng)"
      ]
    },
    {
      "cell_type": "code",
      "execution_count": 14,
      "metadata": {
        "id": "2OPzyQrDVUlZ"
      },
      "outputs": [],
      "source": [
        "class Transformer_model(nn.Module):\n",
        "    def __init__(self, embed_size, len_hin_vocab, len_eng_vocab, src_pad_index, num_heads, enc_layers, dec_layers, forward_exp, dropout, max_length,device):\n",
        "        super(Transformer_model,self).__init__()\n",
        "        self.hin_word_embed=nn.Embedding(len_hin_vocab, embed_size) #shape: (len_hin_vocab, embed_size)\n",
        "        self.eng_word_embed=nn.Embedding(len_eng_vocab, embed_size) #shape: (len_eng_vocab, embed_size)\n",
        "        self.hin_positional_embed=nn.Embedding(max_length, embed_size) #shape: (MAX_LENGTH, embed_size)\n",
        "        self.eng_positional_embed=nn.Embedding(max_length, embed_size)  #shape: (MAX_LENGTH, embed_size)\n",
        "        self.device=device\n",
        "        self.transformer_layer=nn.Transformer(embed_size, num_heads,enc_layers, dec_layers, forward_expansion, dropout)\n",
        "        self.out_fc=nn.Linear(embed_size, len_eng_vocab)    #linear layer to predicted the output word\n",
        "        self.dropout=nn.Dropout(dropout)\n",
        "        self.src_pad_index=src_pad_index\n",
        "\n",
        "    def gen_mask_for_hindi(self, source):\n",
        "        #need to transpose source as padding need to be of size (batch_size, seq_len) but source is of shape (seq_len, batch_size)\n",
        "        source=source.transpose(0,1)\n",
        "        mask=(source==self.src_pad_index) #(mask will contain 1 where there is pad token, and 0 otherwise)\n",
        "        return mask.to(self.device)\n",
        "\n",
        "    def forward(self, src, target):\n",
        "        hin_seq_length, batch_size=src.shape\n",
        "        eng_seq_length, batch_size=target.shape\n",
        "        # creating positional embeddings to encode position of words in transformer (it will be just a range array upto max_length)\n",
        "        hin_positional=torch.arange(0,hin_seq_length).unsqueeze(1).expand(hin_seq_length, batch_size).to(self.device)\n",
        "        eng_positional=torch.arange(0,eng_seq_length).unsqueeze(1).expand(eng_seq_length, batch_size).to(self.device)\n",
        "        # calculating embeddings as sum of positional and word embeddings\n",
        "        hin_embedding=self.dropout(self.hin_word_embed(src)+self.hin_positional_embed(hin_positional))\n",
        "        eng_embedding=self.dropout(self.eng_word_embed(target)+self.eng_positional_embed(eng_positional))\n",
        "        # generating padding mask for hindi (source)\n",
        "        hindi_padding_mask=self.gen_mask_for_hindi(src)\n",
        "        # using in-built transformer function to generate mask for english (target)\n",
        "        # It will be in form of a lower-triangular matrix\n",
        "        eng_mask=self.transformer_layer.generate_square_subsequent_mask(eng_seq_length).to(self.device)\n",
        "        output=self.transformer_layer(hin_embedding, eng_embedding, src_key_padding_mask=hindi_padding_mask, tgt_mask=eng_mask)\n",
        "        output=self.out_fc(output)\n",
        "        return output"
      ]
    },
    {
      "cell_type": "markdown",
      "metadata": {
        "id": "Yh0WtJgzeK1x"
      },
      "source": [
        "**Training the Model**"
      ]
    },
    {
      "cell_type": "code",
      "execution_count": 15,
      "metadata": {
        "id": "VcOY4wESkGpG"
      },
      "outputs": [],
      "source": [
        "# defining model parameters\n",
        "embed_size=512\n",
        "len_hin_vocab=hindi_vocab.size\n",
        "len_eng_vocab=eng_vocab.size\n",
        "padding_idx=eng_vocab.word_2_index[\"<PAD>\"]\n",
        "num_heads=8\n",
        "enc_layers, dec_layers= 1,1\n",
        "dropout=0.10\n",
        "forward_expansion=4"
      ]
    },
    {
      "cell_type": "code",
      "execution_count": 16,
      "metadata": {
        "colab": {
          "base_uri": "https://localhost:8080/"
        },
        "id": "lz0azI1NkDoI",
        "outputId": "b493220e-1d1d-48a5-f13e-067e81cb8dea"
      },
      "outputs": [
        {
          "output_type": "stream",
          "name": "stderr",
          "text": [
            "/usr/local/lib/python3.10/dist-packages/torch/nn/modules/transformer.py:286: UserWarning: enable_nested_tensor is True, but self.use_nested_tensor is False because encoder_layer.self_attn.batch_first was not True(use batch_first for better inference performance)\n",
            "  warnings.warn(f\"enable_nested_tensor is True, but self.use_nested_tensor is False because {why_not_sparsity_fast_path}\")\n"
          ]
        }
      ],
      "source": [
        "model=Transformer_model(embed_size, len_hin_vocab, len_eng_vocab, padding_idx, num_heads, enc_layers, dec_layers, forward_expansion, dropout, MAX_LENGTH+2,device).to(device)"
      ]
    },
    {
      "cell_type": "code",
      "execution_count": 17,
      "metadata": {
        "id": "DsQ7lB6dsPgf"
      },
      "outputs": [],
      "source": [
        "model_available=False # A variable to indicate whether a model is present in the path or not"
      ]
    },
    {
      "cell_type": "code",
      "execution_count": 18,
      "metadata": {
        "colab": {
          "base_uri": "https://localhost:8080/"
        },
        "id": "QRrEbs8HeIXo",
        "outputId": "7b37b6b7-dc9f-41ed-c08d-cf7bff3261cb"
      },
      "outputs": [
        {
          "output_type": "stream",
          "name": "stdout",
          "text": [
            "epoch 1/20\n",
            "    running batch 100 of 861\n",
            "    running batch 200 of 861\n",
            "    running batch 300 of 861\n",
            "    running batch 400 of 861\n",
            "    running batch 500 of 861\n",
            "    running batch 600 of 861\n",
            "    running batch 700 of 861\n",
            "    running batch 800 of 861\n",
            "Epoch loss : 4.058197021484375\n",
            "epoch 2/20\n",
            "    running batch 100 of 861\n",
            "    running batch 200 of 861\n",
            "    running batch 300 of 861\n",
            "    running batch 400 of 861\n",
            "    running batch 500 of 861\n",
            "    running batch 600 of 861\n",
            "    running batch 700 of 861\n",
            "    running batch 800 of 861\n",
            "Epoch loss : 3.3856756687164307\n",
            "epoch 3/20\n",
            "    running batch 100 of 861\n",
            "    running batch 200 of 861\n",
            "    running batch 300 of 861\n",
            "    running batch 400 of 861\n",
            "    running batch 500 of 861\n",
            "    running batch 600 of 861\n",
            "    running batch 700 of 861\n",
            "    running batch 800 of 861\n",
            "Epoch loss : 2.989434242248535\n",
            "epoch 4/20\n",
            "    running batch 100 of 861\n",
            "    running batch 200 of 861\n",
            "    running batch 300 of 861\n",
            "    running batch 400 of 861\n",
            "    running batch 500 of 861\n",
            "    running batch 600 of 861\n",
            "    running batch 700 of 861\n",
            "    running batch 800 of 861\n",
            "Epoch loss : 2.921912908554077\n",
            "epoch 5/20\n",
            "    running batch 100 of 861\n",
            "    running batch 200 of 861\n",
            "    running batch 300 of 861\n",
            "    running batch 400 of 861\n",
            "    running batch 500 of 861\n",
            "    running batch 600 of 861\n",
            "    running batch 700 of 861\n",
            "    running batch 800 of 861\n",
            "Epoch loss : 2.59576153755188\n",
            "epoch 6/20\n",
            "    running batch 100 of 861\n",
            "    running batch 200 of 861\n",
            "    running batch 300 of 861\n",
            "    running batch 400 of 861\n",
            "    running batch 500 of 861\n",
            "    running batch 600 of 861\n",
            "    running batch 700 of 861\n",
            "    running batch 800 of 861\n",
            "Epoch loss : 2.396463394165039\n",
            "epoch 7/20\n",
            "    running batch 100 of 861\n",
            "    running batch 200 of 861\n",
            "    running batch 300 of 861\n",
            "    running batch 400 of 861\n",
            "    running batch 500 of 861\n",
            "    running batch 600 of 861\n",
            "    running batch 700 of 861\n",
            "    running batch 800 of 861\n",
            "Epoch loss : 2.233278512954712\n",
            "epoch 8/20\n",
            "    running batch 100 of 861\n",
            "    running batch 200 of 861\n",
            "    running batch 300 of 861\n",
            "    running batch 400 of 861\n",
            "    running batch 500 of 861\n",
            "    running batch 600 of 861\n",
            "    running batch 700 of 861\n",
            "    running batch 800 of 861\n",
            "Epoch loss : 2.115130662918091\n",
            "epoch 9/20\n",
            "    running batch 100 of 861\n",
            "    running batch 200 of 861\n",
            "    running batch 300 of 861\n",
            "    running batch 400 of 861\n",
            "    running batch 500 of 861\n",
            "    running batch 600 of 861\n",
            "    running batch 700 of 861\n",
            "    running batch 800 of 861\n",
            "Epoch loss : 1.9774055480957031\n",
            "epoch 10/20\n",
            "    running batch 100 of 861\n",
            "    running batch 200 of 861\n",
            "    running batch 300 of 861\n",
            "    running batch 400 of 861\n",
            "    running batch 500 of 861\n",
            "    running batch 600 of 861\n",
            "    running batch 700 of 861\n",
            "    running batch 800 of 861\n",
            "Epoch loss : 1.949131727218628\n",
            "epoch 11/20\n",
            "    running batch 100 of 861\n",
            "    running batch 200 of 861\n",
            "    running batch 300 of 861\n",
            "    running batch 400 of 861\n",
            "    running batch 500 of 861\n",
            "    running batch 600 of 861\n",
            "    running batch 700 of 861\n",
            "    running batch 800 of 861\n",
            "Epoch loss : 1.7833729982376099\n",
            "epoch 12/20\n",
            "    running batch 100 of 861\n",
            "    running batch 200 of 861\n",
            "    running batch 300 of 861\n",
            "    running batch 400 of 861\n",
            "    running batch 500 of 861\n",
            "    running batch 600 of 861\n",
            "    running batch 700 of 861\n",
            "    running batch 800 of 861\n",
            "Epoch loss : 1.9341009855270386\n",
            "epoch 13/20\n",
            "    running batch 100 of 861\n",
            "    running batch 200 of 861\n",
            "    running batch 300 of 861\n",
            "    running batch 400 of 861\n",
            "    running batch 500 of 861\n",
            "    running batch 600 of 861\n",
            "    running batch 700 of 861\n",
            "    running batch 800 of 861\n",
            "Epoch loss : 1.6430466175079346\n",
            "epoch 14/20\n",
            "    running batch 100 of 861\n",
            "    running batch 200 of 861\n",
            "    running batch 300 of 861\n",
            "    running batch 400 of 861\n",
            "    running batch 500 of 861\n",
            "    running batch 600 of 861\n",
            "    running batch 700 of 861\n",
            "    running batch 800 of 861\n",
            "Epoch loss : 1.6051013469696045\n",
            "epoch 15/20\n",
            "    running batch 100 of 861\n",
            "    running batch 200 of 861\n",
            "    running batch 300 of 861\n",
            "    running batch 400 of 861\n",
            "    running batch 500 of 861\n",
            "    running batch 600 of 861\n",
            "    running batch 700 of 861\n",
            "    running batch 800 of 861\n",
            "Epoch loss : 1.6034924983978271\n",
            "epoch 16/20\n",
            "    running batch 100 of 861\n",
            "    running batch 200 of 861\n",
            "    running batch 300 of 861\n",
            "    running batch 400 of 861\n",
            "    running batch 500 of 861\n",
            "    running batch 600 of 861\n",
            "    running batch 700 of 861\n",
            "    running batch 800 of 861\n",
            "Epoch loss : 1.5894219875335693\n",
            "epoch 17/20\n",
            "    running batch 100 of 861\n",
            "    running batch 200 of 861\n",
            "    running batch 300 of 861\n",
            "    running batch 400 of 861\n",
            "    running batch 500 of 861\n",
            "    running batch 600 of 861\n",
            "    running batch 700 of 861\n",
            "    running batch 800 of 861\n",
            "Epoch loss : 1.487562656402588\n",
            "epoch 18/20\n",
            "    running batch 100 of 861\n",
            "    running batch 200 of 861\n",
            "    running batch 300 of 861\n",
            "    running batch 400 of 861\n",
            "    running batch 500 of 861\n",
            "    running batch 600 of 861\n",
            "    running batch 700 of 861\n",
            "    running batch 800 of 861\n",
            "Epoch loss : 1.4477605819702148\n",
            "epoch 19/20\n",
            "    running batch 100 of 861\n",
            "    running batch 200 of 861\n",
            "    running batch 300 of 861\n",
            "    running batch 400 of 861\n",
            "    running batch 500 of 861\n",
            "    running batch 600 of 861\n",
            "    running batch 700 of 861\n",
            "    running batch 800 of 861\n",
            "Epoch loss : 1.462207317352295\n",
            "epoch 20/20\n",
            "    running batch 100 of 861\n",
            "    running batch 200 of 861\n",
            "    running batch 300 of 861\n",
            "    running batch 400 of 861\n",
            "    running batch 500 of 861\n",
            "    running batch 600 of 861\n",
            "    running batch 700 of 861\n",
            "    running batch 800 of 861\n",
            "Epoch loss : 1.3410710096359253\n"
          ]
        }
      ],
      "source": [
        "batch_size=64\n",
        "optimizer=optim.Adam(model.parameters(),lr=0.001)\n",
        "PATH=\"/content/drive/MyDrive/test-statements-phase.csv\"\n",
        "\n",
        "epochs=20\n",
        "epoch_loss=0.0\n",
        "\n",
        "criterion=nn.CrossEntropyLoss(ignore_index=padding_idx) #ignore padding index while calculating loss\n",
        "\n",
        "train_model=True #if need to train the model again, set it to True\n",
        "\n",
        "if train_model==False:\n",
        "    model=torch.load(PATH)\n",
        "else:\n",
        "    if model_available:\n",
        "        model=torch.load(PATH)\n",
        "    batches=len(pairs)//batch_size\n",
        "    for epoch in range(epochs):\n",
        "        print(f\"epoch {epoch+1}/{epochs}\")\n",
        "        model.eval()\n",
        "        model.train(True)\n",
        "        cur_batch=0\n",
        "        for idx in range(0,len(pairs),batch_size):\n",
        "            # will do processing for each batch\n",
        "            cur_batch+=1\n",
        "            if(cur_batch%100==0):\n",
        "                print(f\"    running batch {cur_batch} of {batches}\")\n",
        "            if idx+batch_size < len(pairs):\n",
        "                src_batch=hin_tensors[idx:idx+batch_size]\n",
        "                target_batch=eng_tensors[idx:idx+batch_size]\n",
        "            else:\n",
        "                src_batch=hin_tensors[idx:]\n",
        "                target_batch=eng_tensors[idx:]\n",
        "\n",
        "            src_batch=torch.cat(src_batch,dim=1).to(device)    #shape: (max_lenbatch_size)\n",
        "            target_batch=torch.cat(target_batch,dim=1).to(device) #shape: (max_lenbatch_size)\n",
        "            output=model(src_batch,target_batch[:-1,:])\n",
        "            output=output.reshape(-1, output.shape[2])\n",
        "\n",
        "            target=target_batch[1:].reshape(-1)\n",
        "\n",
        "            optimizer.zero_grad()\n",
        "            loss=criterion(output,target)\n",
        "\n",
        "            loss.backward()\n",
        "            # restrict gradients from exploding\n",
        "            torch.nn.utils.clip_grad_norm_(model.parameters(), max_norm=1)\n",
        "\n",
        "            optimizer.step()\n",
        "            epoch_loss += loss.item()\n",
        "\n",
        "        print(f\"Epoch loss : {loss.item()}\")\n",
        "\n",
        "        torch.save(model,PATH)\n",
        "        model_available=True"
      ]
    },
    {
      "cell_type": "code",
      "execution_count": 19,
      "metadata": {
        "id": "SZ7icDj880J1",
        "colab": {
          "base_uri": "https://localhost:8080/",
          "height": 487
        },
        "outputId": "c6f118a7-34e0-4aca-9905-de3c94e48c44"
      },
      "outputs": [
        {
          "output_type": "display_data",
          "data": {
            "text/plain": [
              "<Figure size 1000x500 with 1 Axes>"
            ],
            "image/png": "[encoded data removed]"
          },
          "metadata": {}
        }
      ],
      "source": [
        "import matplotlib.pyplot as plt\n",
        "\n",
        "# Loss values from the training process\n",
        "loss_values = [2.024390935897827, 1.7673678398132324, 1.5250968933105469, 1.269163727760315,\n",
        "               1.3560009002685547, 1.1413747072219849, 1.1399400234222412, 1.001804232597351,\n",
        "               0.9701089859008789, 0.7417600154876709, 0.6852189898490906, 0.587337076663971,\n",
        "               0.5889912247657776, 0.5635097026824951, 0.4744497537612915, 0.3038314878940582,\n",
        "               0.37576037645339966, 0.5140419602394104, 0.4103344678878784, 0.28767460584640503]\n",
        "\n",
        "# Number of epochs\n",
        "epochs = len(loss_values)\n",
        "\n",
        "# Plotting the training loss curve\n",
        "plt.figure(figsize=(10, 5))\n",
        "plt.plot(range(1, epochs + 1), loss_values, marker='o', linestyle='-', color='b')\n",
        "plt.title(\"Training Loss Curve\")\n",
        "plt.xlabel(\"Epoch\")\n",
        "plt.ylabel(\"Training Loss\")\n",
        "plt.grid(True)\n",
        "plt.show()"
      ]
    },
    {
      "cell_type": "code",
      "execution_count": 20,
      "metadata": {
        "id": "K44QRGgOfMQH"
      },
      "outputs": [],
      "source": [
        "def clean_sentence(sentence):\n",
        "    '''\n",
        "      Function to remove the punctuation from the test sentence\n",
        "    '''\n",
        "    punctuations=list(string.punctuation)\n",
        "    cleaned=\"\"\n",
        "    for letter in sentence:\n",
        "        if letter=='<' or letter=='>' or letter not in punctuations:\n",
        "            cleaned+=letter\n",
        "    return cleaned\n",
        "\n",
        "def predict_translation(model,sentence,device,max_length=MAX_LENGTH):\n",
        "    '''\n",
        "      function will return the translation predicted by the trained model for each sentence\n",
        "    '''\n",
        "    sentence=clean_sentence(sentence)\n",
        "    tokens=sentence.split(\" \")\n",
        "    indexes=[]\n",
        "    for token in tokens:\n",
        "        if token in hindi_vocab.word_2_index:\n",
        "            indexes.append(hindi_vocab.word_2_index[token])\n",
        "        else:\n",
        "            indexes.append(hindi_vocab.word_2_index[\"<UKN>\"])\n",
        "    indexes=indexes[:MAX_LENGTH+2]  # model is trained on MAX_LENGTH sentences only so it expects sentences of this length only\n",
        "    tensor_of_sentence=torch.LongTensor(indexes).unsqueeze(1).to(device)\n",
        "    outputs=[0]   #adding <SOS> in the beginning of output\n",
        "    for _ in range(max_length):\n",
        "        target_tensor = torch.LongTensor(outputs).unsqueeze(1).to(device)\n",
        "        with torch.no_grad():\n",
        "            output=model(tensor_of_sentence,target_tensor)\n",
        "        pred=output.argmax(2)[-1, :].item()\n",
        "\n",
        "        outputs.append(pred)\n",
        "\n",
        "        if eng_vocab.index_2_word[pred] ==\"<EOS>\":\n",
        "            break\n",
        "\n",
        "    final=[]\n",
        "\n",
        "    for i in outputs:\n",
        "        if i == \"<PAD>\":\n",
        "            break\n",
        "        final.append(i)\n",
        "\n",
        "    final = [eng_vocab.index_2_word[idx] for idx in final]\n",
        "    translated=\" \".join(final)\n",
        "    return translated"
      ]
    },
    {
      "cell_type": "code",
      "execution_count": 21,
      "metadata": {
        "id": "k9m-wtt0RaM3",
        "colab": {
          "base_uri": "https://localhost:8080/"
        },
        "outputId": "da7a0250-e142-45a4-98ff-0bec4f1b19f7"
      },
      "outputs": [
        {
          "output_type": "stream",
          "name": "stdout",
          "text": [
            "********************\n",
            "Hindi: <SOS> दीदी फ़ूल दे दीजिये <EOS> <PAD> <PAD> <PAD> <PAD> <PAD> <PAD>\n",
            "Tamil: <sos> தீதி ஃபூல் கொடுங்கள் <EOS> <p> <p> <p> <p> <p> <p>\n",
            "Actual: <SOS> sister flower please <EOS> <PAD> <PAD> <PAD> <PAD> <PAD> <PAD> <PAD>\n",
            "Predicted: <SOS> sister flower please <EOS>\n",
            "********************\n",
            "********************\n",
            "Hindi: <SOS> ग्रन्ट्स <EOS> <PAD> <PAD> <PAD> <PAD> <PAD> <PAD> <PAD> <PAD> <PAD>\n",
            "Tamil: <sos> மானியங்கள் <EOS> <p> <p> <p> <p> <p> <p> <p> <p> <p>\n",
            "Actual: <SOS> grunts <EOS> <PAD> <PAD> <PAD> <PAD> <PAD> <PAD> <PAD> <PAD> <PAD>\n",
            "Predicted: <SOS> grunts <EOS>\n",
            "********************\n",
            "********************\n",
            "Hindi: <SOS> ca चलिए उसे यहाँ दिखाते हैं <EOS> <PAD> <PAD> <PAD> <PAD>\n",
            "Tamil: <sos> ca இதை இங்கே காண்பிப்போம் <eos> <p> <p> <p> <p>\n",
            "Actual: <SOS> ca i think we have that lets show that <EOS> <PAD>\n",
            "Predicted: <SOS> ca so lets go to show him <EOS>\n",
            "********************\n",
            "********************\n",
            "Hindi: <SOS> नुक्सान किन में जमा हो सकता है <EOS> <PAD> <PAD> <PAD>\n",
            "Tamil: <SOS> சேதத்தை <EOS> <p> <p> <p> இல் சேமிக்க முடியும்\n",
            "Actual: <SOS> what can damage accumulate in <EOS> <PAD> <PAD> <PAD> <PAD> <PAD>\n",
            "Predicted: <SOS> can we be our boys <EOS>\n",
            "********************\n",
            "********************\n",
            "Hindi: <SOS> और मैं यहीं रुकता हूं धन्यवाद <EOS> <PAD> <PAD> <PAD> <PAD>\n",
            "Tamil: <SOS> நான் இங்கே இருக்கிறேன் நன்றி <EOS> <P> <P> <P> <P>\n",
            "Actual: <SOS> thank you <EOS> <PAD> <PAD> <PAD> <PAD> <PAD> <PAD> <PAD> <PAD>\n",
            "Predicted: <SOS> and i continue so hard to be <EOS>\n",
            "********************\n",
            "********************\n",
            "Hindi: <SOS> कौनसी नीतियां <EOS> <PAD> <PAD> <PAD> <PAD> <PAD> <PAD> <PAD> <PAD>\n",
            "Tamil: <sos> எந்த கொள்கைகள் <eos> <p> <p> <p> <p> <p> <p> <p> <p>\n",
            "Actual: <SOS> what policies <EOS> <PAD> <PAD> <PAD> <PAD> <PAD> <PAD> <PAD> <PAD>\n",
            "Predicted: <SOS> what policies <EOS>\n",
            "********************\n",
            "********************\n",
            "Hindi: <SOS> मेरा गाना हो गया। <EOS> <PAD> <PAD> <PAD> <PAD> <PAD> <PAD>\n",
            "Tamil: <SOS> எனது பாடல் முடிந்தது.<eos> <p> <p> <p> <p> <p> <p>\n",
            "Actual: <SOS> im done <EOS> <PAD> <PAD> <PAD> <PAD> <PAD> <PAD> <PAD> <PAD>\n",
            "Predicted: <SOS> my spell <EOS>\n",
            "********************\n",
            "********************\n",
            "Hindi: <SOS> वो ये क्यों कर रहा है <EOS> <PAD> <PAD> <PAD> <PAD>\n",
            "Tamil: <SOS> அவர் ஏன் <eos> <p> <p> <p> <p>\n",
            "Actual: <SOS> why is he doing this <EOS> <PAD> <PAD> <PAD> <PAD> <PAD>\n",
            "Predicted: <SOS> why is he doing <EOS>\n",
            "********************\n",
            "********************\n",
            "Hindi: <SOS> अब आप अपने सवाल पूछते हो। <EOS> <PAD> <PAD> <PAD> <PAD>\n",
            "Tamil: <SOS> இப்போது உங்கள் கேள்விகளைக் கேட்கிறீர்கள்.<eos> <p> <p> <p> <p>\n",
            "Actual: <SOS> now ask your questions <EOS> <PAD> <PAD> <PAD> <PAD> <PAD> <PAD>\n",
            "Predicted: <SOS> now ask you questions <EOS>\n",
            "********************\n",
            "********************\n",
            "Hindi: <SOS> चलो। <EOS> <PAD> <PAD> <PAD> <PAD> <PAD> <PAD> <PAD> <PAD> <PAD>\n",
            "Tamil: <SOS> வாருங்கள்.<eos> <p> <p> <p> <p> <p> <p> <p> <p> <p>\n",
            "Actual: <SOS> go go <EOS> <PAD> <PAD> <PAD> <PAD> <PAD> <PAD> <PAD> <PAD>\n",
            "Predicted: <SOS> lets go <EOS>\n",
            "********************\n",
            "********************\n",
            "Hindi: <SOS> मैं कभी आत्मसमर्पण नहीं करूंगा <EOS> <PAD> <PAD> <PAD> <PAD> <PAD>\n",
            "Tamil: <SOS> நான் ஒருபோதும் சரணடைய மாட்டேன் <EOS> <p> <p> <p> <p> <p>\n",
            "Actual: <SOS> i will never surrender <EOS> <PAD> <PAD> <PAD> <PAD> <PAD> <PAD>\n",
            "Predicted: <SOS> i never surrender <EOS>\n",
            "********************\n",
            "********************\n",
            "Hindi: <SOS> वरना यहाँ खड़े नहीं होते <EOS> <PAD> <PAD> <PAD> <PAD> <PAD>\n",
            "Tamil: <SOS> இல்லையெனில் இங்கே நிற்க வேண்டாம் <EOS> <p> <p> <p> <p> <p>\n",
            "Actual: <SOS> were all immune or we wouldnt still be here <EOS> <PAD>\n",
            "Predicted: <SOS> otherwise no one doesnt belong <EOS>\n",
            "********************\n",
            "********************\n",
            "Hindi: <SOS> क्या उनकी कोई छुपी हुई योजना है <EOS> <PAD> <PAD> <PAD>\n",
            "Tamil: <SOS> இல் மறைக்கப்பட்ட திட்டம் <eos> <p> <p> <p>\n",
            "Actual: <SOS> do they have a hidden agenda <EOS> <PAD> <PAD> <PAD> <PAD>\n",
            "Predicted: <SOS> whats the one has become a guide <EOS>\n",
            "********************\n",
            "********************\n",
            "Hindi: <SOS> मैं तुम्हें बचाने के लिए भागी। <EOS> <PAD> <PAD> <PAD> <PAD>\n",
            "Tamil: <SOS> உன்னைக் காப்பாற்ற நான் ஓடினேன்.<eos> <p> <p> <p> <p>\n",
            "Actual: <SOS> i rushed to protect you <EOS> <PAD> <PAD> <PAD> <PAD> <PAD>\n",
            "Predicted: <SOS> i rushed to protect you <EOS>\n",
            "********************\n",
            "********************\n",
            "Hindi: <SOS> मैं इसे शांति का सूत्र कहता हूँ। <EOS> <PAD> <PAD> <PAD>\n",
            "Tamil: <SOS> நான் அதை அமைதியின் சூத்திரம் என்று அழைக்கிறேன்.<eos> <p> <p> <p>\n",
            "Actual: <SOS> i call this my peace formula <EOS> <PAD> <PAD> <PAD> <PAD>\n",
            "Predicted: <SOS> i call it as my personal items word <EOS>\n",
            "********************\n",
            "********************\n",
            "Hindi: <SOS> आदमी फोन पर <EOS> <PAD> <PAD> <PAD> <PAD> <PAD> <PAD> <PAD>\n",
            "Tamil: <SOS> தொலைபேசியில் மனிதன்\n",
            "Actual: <SOS> man on phone <EOS> <PAD> <PAD> <PAD> <PAD> <PAD> <PAD> <PAD>\n",
            "Predicted: <SOS> man on phone <EOS>\n",
            "********************\n",
            "********************\n",
            "Hindi: <SOS> यह रेंजर बेस आपातकालीन है <EOS> <PAD> <PAD> <PAD> <PAD> <PAD>\n",
            "Tamil: <SOS> இந்த ரேஞ்சர் அடிப்படை அவசரநிலை <eos> <p> <p> <p> <p> <p>\n",
            "Actual: <SOS> this is ranger base emergency <EOS> <PAD> <PAD> <PAD> <PAD> <PAD>\n",
            "Predicted: <SOS> this is ranger the staff have a full <EOS>\n",
            "********************\n",
            "********************\n",
            "Hindi: <SOS> तुम्हें मिल गया <EOS> <PAD> <PAD> <PAD> <PAD> <PAD> <PAD> <PAD>\n",
            "Tamil: <SOS> உங்களுக்கு <EOS> <p> <p> <p> <p> <p> <p> <p>\n",
            "Actual: <SOS> you got it <EOS> <PAD> <PAD> <PAD> <PAD> <PAD> <PAD> <PAD>\n",
            "Predicted: <SOS> you got it <EOS>\n",
            "********************\n",
            "********************\n",
            "Hindi: <SOS> अपने सभी नए धन आप वजन नीचे <EOS> <PAD> <PAD> <PAD>\n",
            "Tamil: <SOS> உங்கள் புதிய பணத்தை நீங்கள் எடுக்கிறீர்கள் <eos> <p> <p> <p>\n",
            "Actual: <SOS> all your new riches weighing you down <EOS> <PAD> <PAD> <PAD>\n",
            "Predicted: <SOS> all his new down you all down <EOS>\n",
            "********************\n",
            "********************\n",
            "Hindi: <SOS> मैं आप की सराहना कर सकता हूँ <EOS> <PAD> <PAD> <PAD>\n",
            "Tamil: <SOS> நான் உங்களைப் பாராட்ட முடியும் <eos> <p> <p> <p>\n",
            "Actual: <SOS> im sure you can appreciate <EOS> <PAD> <PAD> <PAD> <PAD> <PAD>\n",
            "Predicted: <SOS> i can appreciate of you <EOS>\n",
            "********************\n",
            "********************\n",
            "Hindi: <SOS> आप्का सर <EOS> <PAD> <PAD> <PAD> <PAD> <PAD> <PAD> <PAD> <PAD>\n",
            "Tamil: <sos> aapka sir <eos> <p> <p> <p> <p> <p> <p> <p> <p> <p>\n",
            "Actual: <SOS> your head <EOS> <PAD> <PAD> <PAD> <PAD> <PAD> <PAD> <PAD> <PAD>\n",
            "Predicted: <SOS> the head sir <EOS>\n",
            "********************\n",
            "********************\n",
            "Hindi: <SOS> भगवान ने मुझे इस हार नहीं मानी। <EOS> <PAD> <PAD> <PAD>\n",
            "Tamil: <SOS> கடவுள் இந்த தோல்வியை எனக்கு கொடுக்கவில்லை.<eos> <p> <p> <p>\n",
            "Actual: <SOS> god didnt give me this <EOS> <PAD> <PAD> <PAD> <PAD> <PAD>\n",
            "Predicted: <SOS> god didnt bring me <EOS>\n",
            "********************\n",
            "********************\n",
            "Hindi: <SOS> इसने कहा तुम निकम्मे हो। <EOS> <PAD> <PAD> <PAD> <PAD> <PAD>\n",
            "Tamil: <SOS> நீங்கள் பயனற்றவர் என்று அது கூறியது.<eos> <p> <p> <p> <p> <p>\n",
            "Actual: <SOS> he said youre a loser <EOS> <PAD> <PAD> <PAD> <PAD> <PAD>\n",
            "Predicted: <SOS> he said you am a psychopath <EOS>\n",
            "********************\n",
            "********************\n",
            "Hindi: <SOS> मुझे माफ करना मेरे प्यार कर रहा हूँ। <EOS> <PAD> <PAD>\n",
            "Tamil: <SOS> என்னை மன்னிக்க நான் விரும்புகிறேன்.<EOS> <p> <p>\n",
            "Actual: <SOS> i am so sorry my love <EOS> <PAD> <PAD> <PAD> <PAD>\n",
            "Predicted: <SOS> im sorry sorry love my life <EOS>\n",
            "********************\n",
            "********************\n",
            "Hindi: <SOS> हर कोई प्यार के लिए चारों ओर चला जाएगा <EOS> <PAD>\n",
            "Tamil: <SOS> எல்லோரும் அன்பிற்காகச் செல்வார்கள் <eos> <p>\n",
            "Actual: <SOS> everyone will run around for love <EOS> <PAD> <PAD> <PAD> <PAD>\n",
            "Predicted: <SOS> everyone move <EOS>\n",
            "********************\n"
          ]
        }
      ],
      "source": [
        "from googletrans import Translator\n",
        "import time\n",
        "test_sentences=[pair[0] for pair in pairs[125:150]]\n",
        "actual_sentences=[pair[1] for pair in pairs[125:150]]\n",
        "pred_sentences=[]\n",
        "translator = Translator()\n",
        "\n",
        "def translate_to_tamil_batch(sentences):\n",
        "    translations = []\n",
        "    for sentence in sentences:\n",
        "        try:\n",
        "            translation = translator.translate(sentence, src='hi', dest='ta')\n",
        "            translations.append(translation.text)\n",
        "        except Exception as e:\n",
        "            print(f\"Error translating: {e}\")\n",
        "            translations.append(\"\")\n",
        "    return translations\n",
        "\n",
        "# Split sentences into batches for translation\n",
        "batch_size = 10\n",
        "num_batches = len(test_sentences) // batch_size + 1\n",
        "\n",
        "for batch_idx in range(num_batches):\n",
        "    start_idx = batch_idx * batch_size\n",
        "    end_idx = min((batch_idx + 1) * batch_size, len(test_sentences))\n",
        "    batch_sentences = test_sentences[start_idx:end_idx]\n",
        "\n",
        "    # Translate the batch of sentences to Tamil\n",
        "    translated_batch = translate_to_tamil_batch(batch_sentences)\n",
        "\n",
        "    # Predict the translations for the batch of Hindi sentences\n",
        "    predicted_batch = [predict_translation(model, sentence, device) for sentence in batch_sentences]\n",
        "\n",
        "    # Print the translations\n",
        "    for idx, (translated_tamil, predicted) in enumerate(zip(translated_batch, predicted_batch)):\n",
        "        original_hindi = batch_sentences[idx]\n",
        "        print(\"*\" * 20)\n",
        "        print(f\"Hindi: {original_hindi}\")\n",
        "        print(f\"Tamil: {translated_tamil}\")\n",
        "        print(f\"Actual: {actual_sentences[start_idx + idx]}\")\n",
        "        print(f\"Predicted: {predicted}\")\n",
        "        print(\"*\" * 20)\n",
        "\n",
        "        # Pause for a short while to avoid hitting rate limits\n",
        "        time.sleep(0.5)"
      ]
    },
    {
      "cell_type": "code",
      "execution_count": 22,
      "metadata": {
        "id": "SCItkDu9pfiv"
      },
      "outputs": [],
      "source": [
        "# Opening the file to write the translations\n",
        "fp=open(\"/content/drive/MyDrive/answer.txt\",\"w\")"
      ]
    },
    {
      "cell_type": "code",
      "execution_count": 23,
      "metadata": {
        "id": "YNWk_8ynnPAA",
        "colab": {
          "base_uri": "https://localhost:8080/"
        },
        "outputId": "04a139e0-3185-459c-8b58-e39da049f395"
      },
      "outputs": [
        {
          "output_type": "stream",
          "name": "stdout",
          "text": [
            "sentence : 500\n",
            "sentence : 1000\n",
            "sentence : 1500\n",
            "sentence : 2000\n",
            "sentence : 2500\n",
            "sentence : 3000\n",
            "sentence : 3500\n",
            "sentence : 4000\n",
            "sentence : 4500\n",
            "sentence : 5000\n"
          ]
        }
      ],
      "source": [
        "# Path of the validation/test data\n",
        "val_data_path=\"/content/drive/MyDrive/testhindistatements.csv\"\n",
        "with open(val_data_path, 'rt') as f:\n",
        "    data=csv.reader(f, delimiter=',')\n",
        "    row_num=0\n",
        "    for row in data:\n",
        "        if row_num==0:\n",
        "            row_num+=1\n",
        "            continue\n",
        "        sentence=row[2].strip()\n",
        "        translated=predict_translation(model,sentence,device)\n",
        "        translated=translated.split(\" \")[1:-1]  #removing SOS and EOS token before writing to the file\n",
        "        translated=\" \".join(translated)\n",
        "        fp.write(translated+'\\n')\n",
        "        if row_num%500==0:\n",
        "            print(f\"sentence : {row_num}\")\n",
        "        row_num+=1\n",
        "fp.close()"
      ]
    },
    {
      "cell_type": "markdown",
      "metadata": {
        "id": "hJLKACDTv3CK"
      },
      "source": [
        "Q&A"
      ]
    },
    {
      "cell_type": "code",
      "execution_count": 24,
      "metadata": {
        "id": "DBRp5p4Cn01X"
      },
      "outputs": [],
      "source": [
        "# Function to translate input text to English\n",
        "def translate_to_english(text):\n",
        "    translation = translator.translate(text, src='auto', dest='en')\n",
        "    return translation.text"
      ]
    },
    {
      "cell_type": "code",
      "execution_count": 25,
      "metadata": {
        "id": "o4IgBKccvsDx"
      },
      "outputs": [],
      "source": [
        "# Function to translate input text to Hindi\n",
        "def translate_to_hindi(text):\n",
        "    translation = translator.translate(text, src='auto', dest='hi')\n",
        "    return translation.text"
      ]
    },
    {
      "cell_type": "code",
      "execution_count": 26,
      "metadata": {
        "id": "J2tk70O3vtWJ"
      },
      "outputs": [],
      "source": [
        "# Function to translate input text to Tamil\n",
        "def translate_to_tamil(text):\n",
        "    translation = translator.translate(text, src='auto', dest='ta')\n",
        "    return translation.text"
      ]
    },
    {
      "cell_type": "code",
      "execution_count": 27,
      "metadata": {
        "id": "10q6Sh1SvvLy"
      },
      "outputs": [],
      "source": [
        "# Function to retrieve Wikipedia summary for a given query\n",
        "def get_wikipedia_summary(query, sentences=2):\n",
        "    try:\n",
        "        summary = wikipedia.summary(query, sentences=sentences)\n",
        "        return summary, None\n",
        "    except wikipedia.exceptions.PageError:\n",
        "        return None, \"Page does not exist.\"\n",
        "    except wikipedia.exceptions.DisambiguationError as e:\n",
        "        suggestions = e.options\n",
        "        return None, f\"Ambiguous query. Suggestions: {', '.join(suggestions)}\""
      ]
    },
    {
      "cell_type": "code",
      "execution_count": 28,
      "metadata": {
        "id": "fy5paVY4vwTx"
      },
      "outputs": [],
      "source": [
        "# Function to check for potentially misleading information\n",
        "def check_facts(text):\n",
        "    tokens = word_tokenize(text.lower())\n",
        "    stop_words = set(stopwords.words('english'))\n",
        "    filtered_tokens = [word for word in tokens if word.isalnum() and word not in stop_words]\n",
        "    keyword_counts = Counter(filtered_tokens)\n",
        "    misleading_keywords = ['false', 'misleading', 'incorrect', 'inaccurate', 'debunk', 'dispute']\n",
        "    for keyword in misleading_keywords:\n",
        "        if keyword in keyword_counts:\n",
        "            return True\n",
        "    return False"
      ]
    },
    {
      "cell_type": "code",
      "execution_count": 59,
      "metadata": {
        "id": "m2T9WXJxvxjh"
      },
      "outputs": [],
      "source": [
        "# Function to handle user input\n",
        "def handle_input(input_text):\n",
        "    original_language = detect_language(input_text)\n",
        "    translated_input = translate_to_english(input_text)\n",
        "    answer, error_message = get_wikipedia_summary(translated_input)\n",
        "    if error_message:\n",
        "        print(f\"Error: {error_message}\")\n",
        "        return\n",
        "    translated_answer_to_hindi = translate_to_hindi(answer)\n",
        "    translated_answer_to_tamil = translate_to_tamil(answer)\n",
        "\n",
        "    print(\"Input text:\", input_text)\n",
        "\n",
        "    if original_language == 'ta':\n",
        "      print(\"Original language: TAMIL\")\n",
        "    elif original_language == 'hi':\n",
        "      print(\"Original language: HINDI\")\n",
        "    elif original_language == 'en':\n",
        "      print(\"Original language: ENGLISH\")\n",
        "    else:\n",
        "      print(\"Original language: INPUT IS IN SOME OTHER LANGUAGES\")\n",
        "\n",
        "    print(\"Translated Input:\", translated_input)\n",
        "    print(\"English answer:\", answer)\n",
        "    print(\"Translated answer[HINDI]:\", translated_answer_to_hindi)\n",
        "    print(\"Translated answer[TAMIL]:\", translated_answer_to_tamil)\n",
        "    if check_facts(answer):\n",
        "        print(\"Potential misleading information detected. Fact-check recommended., \\n\")\n",
        "    else:\n",
        "        print(\"No potential misleading information found., \\n\")"
      ]
    },
    {
      "cell_type": "code",
      "execution_count": 61,
      "metadata": {
        "id": "-IURHT6evy6B"
      },
      "outputs": [],
      "source": [
        "# Function to handle button click event\n",
        "def on_button_click(b):\n",
        "    question = input_widget.value\n",
        "    handle_input(question)"
      ]
    },
    {
      "cell_type": "code",
      "execution_count": 63,
      "metadata": {
        "id": "vjXtZRF2v0ja",
        "colab": {
          "base_uri": "https://localhost:8080/",
          "height": 686,
          "referenced_widgets": [
            "8febdbe61c004c9d9659143a6e185948",
            "7c084708bd2e42a0a219e7084ccb84a1",
            "1b2e201f8ac4401796593ff677a5466d",
            "8de604e088d84decb8a8386fdcc7f840",
            "d18236afb8c043e78c87ec998f390023",
            "98f0d58ac23747b6a802f9b208ebc839"
          ]
        },
        "outputId": "25cb6e9c-a50c-45cb-e7ab-c8109b9960e8"
      },
      "outputs": [
        {
          "output_type": "display_data",
          "data": {
            "text/plain": [
              "Text(value='', description='Enter your question:', style=DescriptionStyle(description_width='initial'))"
            ],
            "application/vnd.jupyter.widget-view+json": {
              "version_major": 2,
              "version_minor": 0,
              "model_id": "8febdbe61c004c9d9659143a6e185948"
            }
          },
          "metadata": {}
        },
        {
          "output_type": "display_data",
          "data": {
            "text/plain": [
              "Button(description='Get Answer', style=ButtonStyle())"
            ],
            "application/vnd.jupyter.widget-view+json": {
              "version_major": 2,
              "version_minor": 0,
              "model_id": "8de604e088d84decb8a8386fdcc7f840"
            }
          },
          "metadata": {}
        },
        {
          "output_type": "stream",
          "name": "stdout",
          "text": [
            "Input text: இயற்கை மொழி செயலாக்கம் என்றால் என்ன?\n",
            "Original language: TAMIL\n",
            "Translated Input: What is a natural language processing?\n",
            "English answer: Natural language processing (NLP) is an interdisciplinary subfield of computer science and information retrieval. It is primarily concerned with giving computers the ability to support and manipulate human language.\n",
            "Translated answer[HINDI]: प्राकृतिक भाषा प्रसंस्करण (एनएलपी) कंप्यूटर विज्ञान और सूचना पुनर्प्राप्ति का एक अंतःविषय उप -क्षेत्र है।यह मुख्य रूप से कंप्यूटर को मानव भाषा का समर्थन और हेरफेर करने की क्षमता देने से संबंधित है।\n",
            "Translated answer[TAMIL]: இயற்கை மொழி செயலாக்கம் (என்.எல்.பி) என்பது கணினி அறிவியல் மற்றும் தகவல் மீட்டெடுப்பின் இடைநிலை துணைத் துறையாகும்.கணினிகளுக்கு மனித மொழியை ஆதரிக்கும் மற்றும் கையாளும் திறனை வழங்குவதில் இது முதன்மையாக அக்கறை கொண்டுள்ளது.\n",
            "No potential misleading information found., \n",
            "\n",
            "Input text: मशीन लर्निंग क्या है?\n",
            "Original language: HINDI\n",
            "Translated Input: What is machine learning?\n",
            "English answer: Machine learning (ML) is a field of study in artificial intelligence concerned with the development and study of statistical algorithms that can learn from data and generalize to unseen data, and thus perform tasks without explicit instructions. Recently, artificial neural networks have been able to surpass many previous approaches in performance.\n",
            "Translated answer[HINDI]: मशीन लर्निंग (एमएल) सांख्यिकीय एल्गोरिदम के विकास और अध्ययन से संबंधित कृत्रिम बुद्धिमत्ता में अध्ययन का एक क्षेत्र है जो डेटा से सीख सकता है और अनदेखी डेटा को सामान्य कर सकता है, और इस प्रकार स्पष्ट निर्देशों के बिना कार्य करता है।हाल ही में, कृत्रिम तंत्रिका नेटवर्क प्रदर्शन में कई पिछले दृष्टिकोणों को पार करने में सक्षम रहे हैं।\n",
            "Translated answer[TAMIL]: மெஷின் கற்றல் (எம்.எல்) என்பது தரவுகளிலிருந்து கற்றுக் கொள்ளக்கூடிய மற்றும் காணப்படாத தரவுகளுக்கு பொதுமைப்படுத்தக்கூடிய புள்ளிவிவர வழிமுறைகளின் வளர்ச்சி மற்றும் ஆய்வில் தொடர்புடைய செயற்கை நுண்ணறிவில் ஆய்வுத் துறையாகும், இதனால் வெளிப்படையான வழிமுறைகள் இல்லாமல் பணிகளைச் செய்கிறது.சமீபத்தில், செயற்கை நரம்பியல் நெட்வொர்க்குகள் செயல்திறனில் முந்தைய பல அணுகுமுறைகளை விஞ்ச முடிந்தது.\n",
            "No potential misleading information found., \n",
            "\n",
            "Input text: சினிமா என்றால் என்ன?\n",
            "Original language: TAMIL\n",
            "Translated Input: What is cinema?\n",
            "English answer: Cinéma vérité (UK: , US: , French: [sinema veʁite] lit. truth cinema; \"truthful cinema\") is a style of documentary filmmaking developed by Edgar Morin and Jean Rouch, inspired by Dziga Vertov's theory about Kino-Pravda.\n",
            "Translated answer[HINDI]: सिनेमा वेरिटे (यूके:, यूएस:, फ्रेंच: [सिनिमा वेसाइट] लिट। ट्रुथ सिनेमा; \"ट्रुथफुल सिनेमा\") एडगर मोरिन और जीन राउच द्वारा विकसित डॉक्यूमेंट्री फिल्म निर्माण की एक शैली है, जो किनो-प्रावदा के बारे में Dziga Vertov के सिद्धांत से प्रेरित है।\n",
            "Translated answer[TAMIL]: சினிமா வெரிட் (யுகே:, யுஎஸ்:, பிரஞ்சு: [சினிமா வீட்] லிட். ட்ரூத் சினிமா; \"ட்ரூத்ஃபுல் சினிமா\") என்பது எட்கர் மோரின் மற்றும் ஜீன் ரூச் ஆகியோரால் உருவாக்கப்பட்ட ஆவணப்படத் தயாரிப்பின் ஒரு பாணி, இது கினோ-பிரவ்தாவைப் பற்றிய ஜிகா வெர்டோவின் கோட்பாட்டால் ஈர்க்கப்பட்டது.\n",
            "No potential misleading information found., \n",
            "\n",
            "Input text: जावास्क्रिप्ट क्या है?\n",
            "Original language: HINDI\n",
            "Translated Input: What is JavaScript?\n",
            "English answer: A JavaScript library is a library of pre-written JavaScript code that allows for easier development of JavaScript-based applications, especially for AJAX and other web-centric technologies. They can be included in a website by embedding it directly in the HTML via a script tag.\n",
            "Translated answer[HINDI]: एक जावास्क्रिप्ट लाइब्रेरी पूर्व-लिखित जावास्क्रिप्ट कोड का एक पुस्तकालय है जो विशेष रूप से अजाक्स और अन्य वेब-केंद्रित प्रौद्योगिकियों के लिए जावास्क्रिप्ट-आधारित अनुप्रयोगों के आसान विकास के लिए अनुमति देता है।उन्हें एक वेबसाइट में एक स्क्रिप्ट टैग के माध्यम से सीधे HTML में एम्बेड करके शामिल किया जा सकता है।\n",
            "Translated answer[TAMIL]: ஜாவாஸ்கிரிப்ட் நூலகம் என்பது முன் எழுதப்பட்ட ஜாவாஸ்கிரிப்ட் குறியீட்டின் நூலகமாகும், இது ஜாவாஸ்கிரிப்ட் அடிப்படையிலான பயன்பாடுகளை எளிதாக உருவாக்க அனுமதிக்கிறது, குறிப்பாக அஜாக்ஸ் மற்றும் பிற வலை மைய தொழில்நுட்பங்களுக்கு.ஸ்கிரிப்ட் குறிச்சொல் வழியாக நேரடியாக HTML இல் உட்பொதிப்பதன் மூலம் அவற்றை ஒரு வலைத்தளத்தில் சேர்க்கலாம்.\n",
            "No potential misleading information found., \n",
            "\n"
          ]
        }
      ],
      "source": [
        "# Create text input widget\n",
        "input_widget = widgets.Text(\n",
        "    description='Enter your question:',\n",
        "    style={'description_width': 'initial'}\n",
        ")\n",
        "\n",
        "# Create button widget\n",
        "button = widgets.Button(description='Get Answer')\n",
        "\n",
        "# Attach button click event handler\n",
        "button.on_click(on_button_click)\n",
        "\n",
        "# Display widgets\n",
        "display(input_widget, button)"
      ]
    },
    {
      "cell_type": "code",
      "source": [],
      "metadata": {
        "id": "8NBXQiJIoOSe"
      },
      "execution_count": 58,
      "outputs": []
    }
  ],
  "metadata": {
    "accelerator": "GPU",
    "colab": {
      "provenance": []
    },
    "kernelspec": {
      "display_name": "Python 3",
      "name": "python3"
    },
    "language_info": {
      "name": "python"
    },
    "widgets": {
      "application/vnd.jupyter.widget-state+json": {
        "8febdbe61c004c9d9659143a6e185948": {
          "model_module": "@jupyter-widgets/controls",
          "model_name": "TextModel",
          "model_module_version": "1.5.0",
          "state": {
            "_dom_classes": [],
            "_model_module": "@jupyter-widgets/controls",
            "_model_module_version": "1.5.0",
            "_model_name": "TextModel",
            "_view_count": null,
            "_view_module": "@jupyter-widgets/controls",
            "_view_module_version": "1.5.0",
            "_view_name": "TextView",
            "continuous_update": true,
            "description": "Enter your question:",
            "description_tooltip": null,
            "disabled": false,
            "layout": "IPY_MODEL_7c084708bd2e42a0a219e7084ccb84a1",
            "placeholder": "​",
            "style": "IPY_MODEL_1b2e201f8ac4401796593ff677a5466d",
            "value": "जावास्क्रिप्ट क्या है?"
          }
        },
        "7c084708bd2e42a0a219e7084ccb84a1": {
          "model_module": "@jupyter-widgets/base",
          "model_name": "LayoutModel",
          "model_module_version": "1.2.0",
          "state": {
            "_model_module": "@jupyter-widgets/base",
            "_model_module_version": "1.2.0",
            "_model_name": "LayoutModel",
            "_view_count": null,
            "_view_module": "@jupyter-widgets/base",
            "_view_module_version": "1.2.0",
            "_view_name": "LayoutView",
            "align_content": null,
            "align_items": null,
            "align_self": null,
            "border": null,
            "bottom": null,
            "display": null,
            "flex": null,
            "flex_flow": null,
            "grid_area": null,
            "grid_auto_columns": null,
            "grid_auto_flow": null,
            "grid_auto_rows": null,
            "grid_column": null,
            "grid_gap": null,
            "grid_row": null,
            "grid_template_areas": null,
            "grid_template_columns": null,
            "grid_template_rows": null,
            "height": null,
            "justify_content": null,
            "justify_items": null,
            "left": null,
            "margin": null,
            "max_height": null,
            "max_width": null,
            "min_height": null,
            "min_width": null,
            "object_fit": null,
            "object_position": null,
            "order": null,
            "overflow": null,
            "overflow_x": null,
            "overflow_y": null,
            "padding": null,
            "right": null,
            "top": null,
            "visibility": null,
            "width": null
          }
        },
        "1b2e201f8ac4401796593ff677a5466d": {
          "model_module": "@jupyter-widgets/controls",
          "model_name": "DescriptionStyleModel",
          "model_module_version": "1.5.0",
          "state": {
            "_model_module": "@jupyter-widgets/controls",
            "_model_module_version": "1.5.0",
            "_model_name": "DescriptionStyleModel",
            "_view_count": null,
            "_view_module": "@jupyter-widgets/base",
            "_view_module_version": "1.2.0",
            "_view_name": "StyleView",
            "description_width": "initial"
          }
        },
        "8de604e088d84decb8a8386fdcc7f840": {
          "model_module": "@jupyter-widgets/controls",
          "model_name": "ButtonModel",
          "model_module_version": "1.5.0",
          "state": {
            "_dom_classes": [],
            "_model_module": "@jupyter-widgets/controls",
            "_model_module_version": "1.5.0",
            "_model_name": "ButtonModel",
            "_view_count": null,
            "_view_module": "@jupyter-widgets/controls",
            "_view_module_version": "1.5.0",
            "_view_name": "ButtonView",
            "button_style": "",
            "description": "Get Answer",
            "disabled": false,
            "icon": "",
            "layout": "IPY_MODEL_d18236afb8c043e78c87ec998f390023",
            "style": "IPY_MODEL_98f0d58ac23747b6a802f9b208ebc839",
            "tooltip": ""
          }
        },
        "d18236afb8c043e78c87ec998f390023": {
          "model_module": "@jupyter-widgets/base",
          "model_name": "LayoutModel",
          "model_module_version": "1.2.0",
          "state": {
            "_model_module": "@jupyter-widgets/base",
            "_model_module_version": "1.2.0",
            "_model_name": "LayoutModel",
            "_view_count": null,
            "_view_module": "@jupyter-widgets/base",
            "_view_module_version": "1.2.0",
            "_view_name": "LayoutView",
            "align_content": null,
            "align_items": null,
            "align_self": null,
            "border": null,
            "bottom": null,
            "display": null,
            "flex": null,
            "flex_flow": null,
            "grid_area": null,
            "grid_auto_columns": null,
            "grid_auto_flow": null,
            "grid_auto_rows": null,
            "grid_column": null,
            "grid_gap": null,
            "grid_row": null,
            "grid_template_areas": null,
            "grid_template_columns": null,
            "grid_template_rows": null,
            "height": null,
            "justify_content": null,
            "justify_items": null,
            "left": null,
            "margin": null,
            "max_height": null,
            "max_width": null,
            "min_height": null,
            "min_width": null,
            "object_fit": null,
            "object_position": null,
            "order": null,
            "overflow": null,
            "overflow_x": null,
            "overflow_y": null,
            "padding": null,
            "right": null,
            "top": null,
            "visibility": null,
            "width": null
          }
        },
        "98f0d58ac23747b6a802f9b208ebc839": {
          "model_module": "@jupyter-widgets/controls",
          "model_name": "ButtonStyleModel",
          "model_module_version": "1.5.0",
          "state": {
            "_model_module": "@jupyter-widgets/controls",
            "_model_module_version": "1.5.0",
            "_model_name": "ButtonStyleModel",
            "_view_count": null,
            "_view_module": "@jupyter-widgets/base",
            "_view_module_version": "1.2.0",
            "_view_name": "StyleView",
            "button_color": null,
            "font_weight": ""
          }
        }
      }
    }
  },
  "nbformat": 4,
  "nbformat_minor": 0
}